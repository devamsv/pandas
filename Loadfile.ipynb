{
 "cells": [
  {
   "cell_type": "markdown",
   "id": "ca18b095",
   "metadata": {},
   "source": [
    "Loading in dataframe from file"
   ]
  },
  {
   "cell_type": "code",
   "execution_count": 4,
   "id": "439cc96c",
   "metadata": {},
   "outputs": [],
   "source": [
    "import pandas as pd\n",
    "people = pd.read_csv('people-100.csv')"
   ]
  },
  {
   "cell_type": "code",
   "execution_count": null,
   "id": "0aac441e",
   "metadata": {},
   "outputs": [],
   "source": [
    "people.head(10)"
   ]
  },
  {
   "cell_type": "code",
   "execution_count": null,
   "id": "47ed0c74",
   "metadata": {},
   "outputs": [],
   "source": [
    "people.tail(10)"
   ]
  },
  {
   "cell_type": "code",
   "execution_count": 25,
   "id": "c5b2af91",
   "metadata": {},
   "outputs": [],
   "source": [
    "bios = pd.read_csv('bios.csv')"
   ]
  },
  {
   "cell_type": "code",
   "execution_count": null,
   "id": "10aaf9be",
   "metadata": {},
   "outputs": [],
   "source": [
    "bios.head(10)"
   ]
  },
  {
   "cell_type": "code",
   "execution_count": null,
   "id": "48793cee",
   "metadata": {},
   "outputs": [],
   "source": []
  }
 ],
 "metadata": {
  "kernelspec": {
   "display_name": "Python 3",
   "language": "python",
   "name": "python3"
  },
  "language_info": {
   "codemirror_mode": {
    "name": "ipython",
    "version": 3
   },
   "file_extension": ".py",
   "mimetype": "text/x-python",
   "name": "python",
   "nbconvert_exporter": "python",
   "pygments_lexer": "ipython3",
   "version": "3.13.7"
  }
 },
 "nbformat": 4,
 "nbformat_minor": 5
}
