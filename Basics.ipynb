{
 "cells": [
  {
   "cell_type": "markdown",
   "id": "c6d09246",
   "metadata": {},
   "source": [
    "Intro to Dataframes"
   ]
  },
  {
   "cell_type": "code",
   "execution_count": 10,
   "id": "b9810982",
   "metadata": {},
   "outputs": [],
   "source": [
    "import pandas as pd\n",
    "\n",
    "df = pd.DataFrame([[1, 2, 3], [3, 4, 5]], columns=['A', 'B', 'C'], index=['row1', 'row2'])\n"
   ]
  },
  {
   "cell_type": "code",
   "execution_count": null,
   "id": "e1d2f691",
   "metadata": {},
   "outputs": [],
   "source": [
    "df.head()  # Display the first few rows of the DataFrame\n",
    "df.tail()  # Display the last few rows of the DataFrame\n",
    "df.columns # List the column names of the DataFrame\n",
    "df.index   # List the index (row labels) of the DataFrame\n",
    "df.index.tolist()  # Convert the index to a list\n",
    "df.info()   # Get a summary of the DataFrame, including data types and non-null counts\n",
    "df.describe()  # Get descriptive statistics for numerical columns\n",
    "df.nunique()  # Get unique values from a Series (use df['column_name'].unique() for a specific column)\n",
    "df['A'].unique()  # Access a specific column by its name\n",
    "df.shape # Get the dimensions of the DataFrame (rows, columns)\n",
    "df.size "
   ]
  },
  {
   "cell_type": "markdown",
   "id": "87bd6d21",
   "metadata": {},
   "source": []
  },
  {
   "cell_type": "code",
   "execution_count": null,
   "id": "4f7b275d",
   "metadata": {},
   "outputs": [],
   "source": []
  }
 ],
 "metadata": {
  "kernelspec": {
   "display_name": "Python 3",
   "language": "python",
   "name": "python3"
  },
  "language_info": {
   "codemirror_mode": {
    "name": "ipython",
    "version": 3
   },
   "file_extension": ".py",
   "mimetype": "text/x-python",
   "name": "python",
   "nbconvert_exporter": "python",
   "pygments_lexer": "ipython3",
   "version": "3.13.7"
  }
 },
 "nbformat": 4,
 "nbformat_minor": 5
}
