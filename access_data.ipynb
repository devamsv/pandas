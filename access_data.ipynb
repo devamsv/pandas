{
 "cells": [
  {
   "cell_type": "markdown",
   "id": "2b11340c",
   "metadata": {},
   "source": [
    "Accessing data with pandas"
   ]
  },
  {
   "cell_type": "code",
   "execution_count": 2,
   "id": "559274a3",
   "metadata": {},
   "outputs": [],
   "source": [
    "import pandas as pd \n",
    "people = pd.read_csv('people-100.csv')"
   ]
  },
  {
   "cell_type": "code",
   "execution_count": null,
   "id": "a1b8f7d7",
   "metadata": {},
   "outputs": [],
   "source": [
    "display(people.head())"
   ]
  },
  {
   "cell_type": "code",
   "execution_count": null,
   "id": "9f62ec36",
   "metadata": {},
   "outputs": [],
   "source": [
    "people.sample(10,random_state=1 ) # Display 10 random rows"
   ]
  },
  {
   "cell_type": "code",
   "execution_count": 21,
   "id": "b905db6b",
   "metadata": {},
   "outputs": [
    {
     "data": {
      "text/html": [
       "<div>\n",
       "<style scoped>\n",
       "    .dataframe tbody tr th:only-of-type {\n",
       "        vertical-align: middle;\n",
       "    }\n",
       "\n",
       "    .dataframe tbody tr th {\n",
       "        vertical-align: top;\n",
       "    }\n",
       "\n",
       "    .dataframe thead th {\n",
       "        text-align: right;\n",
       "    }\n",
       "</style>\n",
       "<table border=\"1\" class=\"dataframe\">\n",
       "  <thead>\n",
       "    <tr style=\"text-align: right;\">\n",
       "      <th></th>\n",
       "      <th>Index</th>\n",
       "      <th>User Id</th>\n",
       "      <th>First Name</th>\n",
       "      <th>Last Name</th>\n",
       "      <th>Sex</th>\n",
       "      <th>Email</th>\n",
       "      <th>Phone</th>\n",
       "      <th>Date of birth</th>\n",
       "      <th>Job Title</th>\n",
       "    </tr>\n",
       "  </thead>\n",
       "  <tbody>\n",
       "    <tr>\n",
       "      <th>4</th>\n",
       "      <td>5</td>\n",
       "      <td>1bA7A3dc874da3c</td>\n",
       "      <td>Lori</td>\n",
       "      <td>Todd</td>\n",
       "      <td>Male</td>\n",
       "      <td>buchananmanuel@example.net</td>\n",
       "      <td>689-207-3558x7233</td>\n",
       "      <td>1938-12-01</td>\n",
       "      <td>Veterinary surgeon</td>\n",
       "    </tr>\n",
       "    <tr>\n",
       "      <th>5</th>\n",
       "      <td>6</td>\n",
       "      <td>bfDD7CDEF5D865B</td>\n",
       "      <td>Erin</td>\n",
       "      <td>Day</td>\n",
       "      <td>Male</td>\n",
       "      <td>tconner@example.org</td>\n",
       "      <td>001-171-649-9856x5553</td>\n",
       "      <td>2015-10-28</td>\n",
       "      <td>Waste management officer</td>\n",
       "    </tr>\n",
       "    <tr>\n",
       "      <th>6</th>\n",
       "      <td>7</td>\n",
       "      <td>bE9EEf34cB72AF7</td>\n",
       "      <td>Katherine</td>\n",
       "      <td>Buck</td>\n",
       "      <td>Female</td>\n",
       "      <td>conniecowan@example.com</td>\n",
       "      <td>+1-773-151-6685x49162</td>\n",
       "      <td>1989-01-22</td>\n",
       "      <td>Intelligence analyst</td>\n",
       "    </tr>\n",
       "    <tr>\n",
       "      <th>7</th>\n",
       "      <td>8</td>\n",
       "      <td>2EFC6A4e77FaEaC</td>\n",
       "      <td>Ricardo</td>\n",
       "      <td>Hinton</td>\n",
       "      <td>Male</td>\n",
       "      <td>wyattbishop@example.com</td>\n",
       "      <td>001-447-699-7998x88612</td>\n",
       "      <td>1924-03-26</td>\n",
       "      <td>Hydrogeologist</td>\n",
       "    </tr>\n",
       "    <tr>\n",
       "      <th>8</th>\n",
       "      <td>9</td>\n",
       "      <td>baDcC4DeefD8dEB</td>\n",
       "      <td>Dave</td>\n",
       "      <td>Farrell</td>\n",
       "      <td>Male</td>\n",
       "      <td>nmccann@example.net</td>\n",
       "      <td>603-428-2429x27392</td>\n",
       "      <td>2018-10-06</td>\n",
       "      <td>Lawyer</td>\n",
       "    </tr>\n",
       "  </tbody>\n",
       "</table>\n",
       "</div>"
      ],
      "text/plain": [
       "   Index          User Id First Name Last Name     Sex  \\\n",
       "4      5  1bA7A3dc874da3c       Lori      Todd    Male   \n",
       "5      6  bfDD7CDEF5D865B       Erin       Day    Male   \n",
       "6      7  bE9EEf34cB72AF7  Katherine      Buck  Female   \n",
       "7      8  2EFC6A4e77FaEaC    Ricardo    Hinton    Male   \n",
       "8      9  baDcC4DeefD8dEB       Dave   Farrell    Male   \n",
       "\n",
       "                        Email                   Phone Date of birth  \\\n",
       "4  buchananmanuel@example.net       689-207-3558x7233    1938-12-01   \n",
       "5         tconner@example.org   001-171-649-9856x5553    2015-10-28   \n",
       "6     conniecowan@example.com   +1-773-151-6685x49162    1989-01-22   \n",
       "7     wyattbishop@example.com  001-447-699-7998x88612    1924-03-26   \n",
       "8         nmccann@example.net      603-428-2429x27392    2018-10-06   \n",
       "\n",
       "                  Job Title  \n",
       "4        Veterinary surgeon  \n",
       "5  Waste management officer  \n",
       "6      Intelligence analyst  \n",
       "7            Hydrogeologist  \n",
       "8                    Lawyer  "
      ]
     },
     "execution_count": 21,
     "metadata": {},
     "output_type": "execute_result"
    }
   ],
   "source": [
    "people.loc[4:8]    # Display rows 4 to 8 inclusive"
   ]
  },
  {
   "cell_type": "code",
   "execution_count": null,
   "id": "5c6a42f5",
   "metadata": {},
   "outputs": [],
   "source": [
    "people.iloc[4:8]   # Display rows 4 to 7 exclusive of 8"
   ]
  },
  {
   "cell_type": "code",
   "execution_count": null,
   "id": "c274340b",
   "metadata": {},
   "outputs": [],
   "source": [
    "people.loc [1,\"\"]"
   ]
  },
  {
   "cell_type": "code",
   "execution_count": null,
   "id": "dac1f2f4",
   "metadata": {},
   "outputs": [],
   "source": []
  }
 ],
 "metadata": {
  "kernelspec": {
   "display_name": "Python 3",
   "language": "python",
   "name": "python3"
  },
  "language_info": {
   "codemirror_mode": {
    "name": "ipython",
    "version": 3
   },
   "file_extension": ".py",
   "mimetype": "text/x-python",
   "name": "python",
   "nbconvert_exporter": "python",
   "pygments_lexer": "ipython3",
   "version": "3.13.7"
  }
 },
 "nbformat": 4,
 "nbformat_minor": 5
}
